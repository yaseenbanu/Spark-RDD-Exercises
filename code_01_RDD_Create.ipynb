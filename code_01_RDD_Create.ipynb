{
 "cells": [
  {
   "cell_type": "markdown",
   "metadata": {},
   "source": [
    "**Table of contents**<a id='toc0_'></a>    \n",
    "- [Create an RDD from a list](#toc1_)    \n",
    "- [Create an RDD from a list of tuples](#toc2_)    \n",
    "- [Create an RDD from a file](#toc3_)    \n",
    "  - [Using textFile](#toc3_1_)    \n",
    "  - [Using wholeTextFiles()](#toc3_2_)    \n",
    "- [Create an RDD from the Existing RDD with a constant column](#toc4_)    \n",
    "- [Create an Empty RDD](#toc5_)    \n",
    "- [Create a Key-Value RDD](#toc6_)    \n",
    "- [Create an RDD with Random numbers](#toc7_)    \n",
    "\n",
    "<!-- vscode-jupyter-toc-config\n",
    "\tnumbering=false\n",
    "\tanchor=true\n",
    "\tflat=false\n",
    "\tminLevel=1\n",
    "\tmaxLevel=6\n",
    "\t/vscode-jupyter-toc-config -->\n",
    "<!-- THIS CELL WILL BE REPLACED ON TOC UPDATE. DO NOT WRITE YOUR TEXT IN THIS CELL -->"
   ]
  },
  {
   "cell_type": "code",
   "execution_count": 3,
   "metadata": {},
   "outputs": [],
   "source": [
    "from pyspark.sql import SparkSession\n",
    "spark = SparkSession.builder.appName(\"RDD-Examples\").getOrCreate()\n",
    "sc = spark.sparkContext"
   ]
  },
  {
   "cell_type": "markdown",
   "metadata": {},
   "source": [
    "# <a id='toc1_'></a>[Create an RDD from a list](#toc0_)"
   ]
  },
  {
   "cell_type": "code",
   "execution_count": 2,
   "metadata": {},
   "outputs": [
    {
     "data": {
      "text/plain": [
       "[0, 1, 2, 3, 4, 5, 6, 7, 8, 9]"
      ]
     },
     "execution_count": 2,
     "metadata": {},
     "output_type": "execute_result"
    }
   ],
   "source": [
    "numbers = list(range(10))\n",
    "rdd = spark.sparkContext.parallelize(numbers)\n",
    "rdd.collect()"
   ]
  },
  {
   "cell_type": "markdown",
   "metadata": {},
   "source": [
    "# <a id='toc2_'></a>[Create an RDD from a list of tuples](#toc0_)"
   ]
  },
  {
   "cell_type": "code",
   "execution_count": 3,
   "metadata": {},
   "outputs": [
    {
     "data": {
      "text/plain": [
       "[('Alice', 25), ('Bob', 30), ('Charlie', 35), ('Alice', 40)]"
      ]
     },
     "execution_count": 3,
     "metadata": {},
     "output_type": "execute_result"
    }
   ],
   "source": [
    "data = [(\"Alice\", 25), (\"Bob\", 30), (\"Charlie\", 35), (\"Alice\", 40)]\n",
    "rdd_1 = spark.sparkContext.parallelize(data)\n",
    "rdd_1.collect()"
   ]
  },
  {
   "cell_type": "markdown",
   "metadata": {},
   "source": [
    "# <a id='toc3_'></a>[Create an RDD from a file](#toc0_)"
   ]
  },
  {
   "cell_type": "markdown",
   "metadata": {},
   "source": [
    "## <a id='toc3_1_'></a>[Using textFile](#toc0_)\n",
    "\n",
    "- **`textFile()`**:\n",
    "  - Reads a text file line by line, treating each line as an individual element in the RDD.\n",
    "  - Suitable for large, line-oriented text files (e.g., logs, CSVs).\n",
    "  - **Output**: Each line is a separate element (String) in the RDD."
   ]
  },
  {
   "cell_type": "code",
   "execution_count": 5,
   "metadata": {},
   "outputs": [
    {
     "name": "stdout",
     "output_type": "stream",
     "text": [
      "+----------+------------+-------------+--------+\n",
      "|rechargeid|rechargedate|remainingdays|validity|\n",
      "+----------+------------+-------------+--------+\n",
      "|   r201235|    20200511|            1|  online|\n",
      "|   r201236|    20210315|            3| offline|\n",
      "|   r201237|    20220101|            5|  online|\n",
      "|   r201238|    20211225|            7| offline|\n",
      "|   r201239|    20221010|            2|  online|\n",
      "+----------+------------+-------------+--------+\n",
      "\n"
     ]
    }
   ],
   "source": [
    "rdd_2 = spark.sparkContext.textFile(\"./data/data1.csv\").map(lambda a: a.split(\",\"))\n",
    "rdd_2.collect()\n",
    "\n",
    "# [['rechargeid', 'rechargedate', 'remainingdays', 'validity'],\n",
    "#  ['r201235', '20200511', '1', 'online'],\n",
    "#  ['r201236', '20210315', '3', 'offline'],\n",
    "#  ['r201237', '20220101', '5', 'online'],\n",
    "#  ['r201238', '20211225', '7', 'offline'],\n",
    "#  ['r201239', '20221010', '2', 'online']]\n",
    "\n",
    "# Create DataFrame from RDD\n",
    "header = rdd_2.first()  # Extract header\n",
    "rdd_no_header = rdd_2.filter(lambda row: row != header)  # Remove header row\n",
    "\n",
    "# Define schema based on header\n",
    "df = rdd_no_header.toDF(header)\n",
    "df.show()"
   ]
  },
  {
   "cell_type": "code",
   "execution_count": null,
   "metadata": {},
   "outputs": [],
   "source": [
    "# create rdd from text file\n",
    "rdd_text = spark.sparkContext.textFile(\"files/rdd_output.txt\")\n",
    "rdd_text.collect()"
   ]
  },
  {
   "cell_type": "markdown",
   "metadata": {},
   "source": [
    "## <a id='toc3_2_'></a>[Using wholeTextFiles()](#toc0_)\n",
    "\n",
    "- Reads the entire contents of each file as a single record (file name and content pair).\n",
    "- Used when you need to process entire files at once, especially when there are multiple small files.\n",
    "- **Output**: Each element is a tuple of `(filename, content)`."
   ]
  },
  {
   "cell_type": "code",
   "execution_count": null,
   "metadata": {},
   "outputs": [],
   "source": [
    "rdd = sparkContext.wholeTextFiles(\"path/to/files/*\")\n",
    "# Output: RDD[(String, String)], where first string is the filename, and second is file content\n",
    "\n",
    "\n",
    "# [('file:/f:/Pyspark/3. Pyspark RDD Ops/files/textFile.txt',\n",
    "#   'seller_id,seller_name,daily_target\\r\\n0,seller_0,25000\\r\\n1,seller_1,176\\r\\n2,seller_2,173\\r\\n3,seller_3,186\\r\\n4,seller_4,145\\r\\n5,seller_5,129\\r\\n6,seller_6,194\\r\\n7,seller_7,142\\r\\n8,seller_8,154\\r\\n9,seller_9,168\\r\\n')]"
   ]
  },
  {
   "cell_type": "markdown",
   "metadata": {},
   "source": [
    "# <a id='toc4_'></a>[Create an RDD from the Existing RDD with a constant column](#toc0_)"
   ]
  },
  {
   "cell_type": "code",
   "execution_count": 6,
   "metadata": {},
   "outputs": [
    {
     "data": {
      "text/plain": [
       "[['rechargeid', 'rechargedate', 'remainingdays', 'validity', 'constant'],\n",
       " ['r201235', '20200511', '1', 'online', 'constant'],\n",
       " ['r201236', '20210315', '3', 'offline', 'constant'],\n",
       " ['r201237', '20220101', '5', 'online', 'constant'],\n",
       " ['r201238', '20211225', '7', 'offline', 'constant'],\n",
       " ['r201239', '20221010', '2', 'online', 'constant']]"
      ]
     },
     "execution_count": 6,
     "metadata": {},
     "output_type": "execute_result"
    }
   ],
   "source": [
    "rdd_3 = rdd_2.map(lambda a: a + ['constant'])\n",
    "\n",
    "rdd_3.collect()"
   ]
  },
  {
   "cell_type": "markdown",
   "metadata": {},
   "source": [
    "# <a id='toc5_'></a>[Create an Empty RDD with no partitions](#toc0_)"
   ]
  },
  {
   "cell_type": "code",
   "execution_count": 11,
   "metadata": {},
   "outputs": [
    {
     "name": "stdout",
     "output_type": "stream",
     "text": [
      "<bound method SparkContext.emptyRDD of <SparkContext master=local[*] appName=RDD-Examples>>\n"
     ]
    }
   ],
   "source": [
    "rdd_4 = spark.sparkContext.emptyRDD\n",
    "print(rdd_4)"
   ]
  },
  {
   "cell_type": "code",
   "execution_count": 8,
   "metadata": {},
   "outputs": [
    {
     "name": "stdout",
     "output_type": "stream",
     "text": [
      "ParallelCollectionRDD[18] at readRDDFromFile at PythonRDD.scala:289\n"
     ]
    },
    {
     "data": {
      "text/plain": [
       "[]"
      ]
     },
     "execution_count": 8,
     "metadata": {},
     "output_type": "execute_result"
    }
   ],
   "source": [
    "rdd_5 = spark.sparkContext.parallelize([])\n",
    "print(rdd_5)\n",
    "rdd_5.collect()"
   ]
  },
  {
   "cell_type": "markdown",
   "metadata": {},
   "source": [
    "# Create an Empty RDD with partition"
   ]
  },
  {
   "cell_type": "code",
   "execution_count": null,
   "metadata": {},
   "outputs": [],
   "source": [
    "rdd8 = spark.sparkContext.parallelize([],10) #This will create 10 partitions"
   ]
  },
  {
   "cell_type": "markdown",
   "metadata": {},
   "source": [
    "# <a id='toc6_'></a>[Create a Key-Value RDD](#toc0_)"
   ]
  },
  {
   "cell_type": "code",
   "execution_count": 12,
   "metadata": {},
   "outputs": [
    {
     "data": {
      "text/plain": [
       "[('hello', 1), ('world', 1), ('good', 1), ('hello', 1)]"
      ]
     },
     "execution_count": 12,
     "metadata": {},
     "output_type": "execute_result"
    }
   ],
   "source": [
    "rdd_6 = spark.sparkContext.parallelize([\"hello\",\"world\",\"good\",\"hello\"])\n",
    "rdd_6.map(lambda w: (w,1)).collect()"
   ]
  },
  {
   "cell_type": "markdown",
   "metadata": {},
   "source": [
    "# <a id='toc7_'></a>[Create an RDD with Random numbers](#toc0_)"
   ]
  },
  {
   "cell_type": "code",
   "execution_count": 4,
   "metadata": {},
   "outputs": [
    {
     "name": "stdout",
     "output_type": "stream",
     "text": [
      "[3 8 2 5 1 1 8 8 0 8 9 1 4 2 6 5 8 8 7 4]\n"
     ]
    }
   ],
   "source": [
    "import numpy as np\n",
    "\n",
    "lst = np.random.randint(0, 10, 20)\n",
    "print(lst)\n",
    "\n",
    "# Parallelize the list to create an RDD\n",
    "A = sc.parallelize(lst)"
   ]
  },
  {
   "cell_type": "code",
   "execution_count": null,
   "metadata": {},
   "outputs": [],
   "source": []
  }
 ],
 "metadata": {
  "kernelspec": {
   "display_name": "Python 3",
   "language": "python",
   "name": "python3"
  },
  "language_info": {
   "codemirror_mode": {
    "name": "ipython",
    "version": 3
   },
   "file_extension": ".py",
   "mimetype": "text/x-python",
   "name": "python",
   "nbconvert_exporter": "python",
   "pygments_lexer": "ipython3",
   "version": "3.9.12"
  }
 },
 "nbformat": 4,
 "nbformat_minor": 2
}
